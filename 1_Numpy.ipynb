{
 "cells": [
  {
   "cell_type": "markdown",
   "id": "ed1535b3-c16a-4770-a5ff-d7fa5ac4abd2",
   "metadata": {},
   "source": [
    " # NumPy "
   ]
  },
  {
   "cell_type": "code",
   "execution_count": 1,
   "id": "254ad841-68cf-4613-a1d6-b4d44eb6ecb7",
   "metadata": {},
   "outputs": [],
   "source": [
    "import numpy as np\n"
   ]
  },
  {
   "cell_type": "code",
   "execution_count": 3,
   "id": "c1a784a5-fe7c-4f1a-b338-714005194b68",
   "metadata": {},
   "outputs": [
    {
     "data": {
      "text/plain": [
       "array([1, 2, 3, 4])"
      ]
     },
     "execution_count": 3,
     "metadata": {},
     "output_type": "execute_result"
    }
   ],
   "source": [
    "arr=np.array([1,2,3,4])\n",
    "arr\n"
   ]
  },
  {
   "cell_type": "code",
   "execution_count": 5,
   "id": "c4f33ee5-681a-4d63-a69f-55be2387b0d0",
   "metadata": {},
   "outputs": [
    {
     "data": {
      "text/plain": [
       "[1, 2, 3, 3.5, 4, 'hello']"
      ]
     },
     "execution_count": 5,
     "metadata": {},
     "output_type": "execute_result"
    }
   ],
   "source": [
    "#list\n",
    "a=[1,2,3,3.5,4,\"hello\"]\n",
    "a"
   ]
  },
  {
   "cell_type": "code",
   "execution_count": 6,
   "id": "6e45c226-75b4-4032-b630-4678c5cf78f2",
   "metadata": {},
   "outputs": [
    {
     "data": {
      "text/plain": [
       "array(['1', '2', '3', '3.5', '4', 'hello'], dtype='<U32')"
      ]
     },
     "execution_count": 6,
     "metadata": {},
     "output_type": "execute_result"
    }
   ],
   "source": [
    "np.array(a)"
   ]
  },
  {
   "cell_type": "code",
   "execution_count": 8,
   "id": "0caf7aee-98b0-40b0-906b-4175ddc591fa",
   "metadata": {},
   "outputs": [
    {
     "data": {
      "text/plain": [
       "[[1, 2, 3, 4, 5], [4, 5, 6, 7, 8]]"
      ]
     },
     "execution_count": 8,
     "metadata": {},
     "output_type": "execute_result"
    }
   ],
   "source": [
    "i=[[1,2,3,4,5],[4,5,6,7,8]]\n",
    "i"
   ]
  },
  {
   "cell_type": "code",
   "execution_count": 9,
   "id": "d118b71c-52fb-423b-a69e-1dc9734582b5",
   "metadata": {},
   "outputs": [
    {
     "data": {
      "text/plain": [
       "array([[1, 2, 3, 4, 5],\n",
       "       [4, 5, 6, 7, 8]])"
      ]
     },
     "execution_count": 9,
     "metadata": {},
     "output_type": "execute_result"
    }
   ],
   "source": [
    "np.array(i)"
   ]
  },
  {
   "cell_type": "markdown",
   "id": "93591d99-800a-4192-abca-641466be58d2",
   "metadata": {},
   "source": [
    "# array generation function"
   ]
  },
  {
   "cell_type": "code",
   "execution_count": 12,
   "id": "f2b8e454-15ff-41a0-945a-7809143687ad",
   "metadata": {},
   "outputs": [
    {
     "data": {
      "text/plain": [
       "array([1, 3, 5, 7, 9])"
      ]
     },
     "execution_count": 12,
     "metadata": {},
     "output_type": "execute_result"
    }
   ],
   "source": [
    "arr=np.arange(1,11,2)\n",
    "arr"
   ]
  },
  {
   "cell_type": "code",
   "execution_count": 15,
   "id": "577ab953-7dea-4fd5-84e0-4fca1a65afcf",
   "metadata": {},
   "outputs": [
    {
     "data": {
      "text/plain": [
       "array([[0., 0., 0., 0., 0., 0.],\n",
       "       [0., 0., 0., 0., 0., 0.],\n",
       "       [0., 0., 0., 0., 0., 0.],\n",
       "       [0., 0., 0., 0., 0., 0.],\n",
       "       [0., 0., 0., 0., 0., 0.],\n",
       "       [0., 0., 0., 0., 0., 0.]])"
      ]
     },
     "execution_count": 15,
     "metadata": {},
     "output_type": "execute_result"
    }
   ],
   "source": [
    "arr=np.zeros((6,6))\n",
    "arr"
   ]
  },
  {
   "cell_type": "code",
   "execution_count": 18,
   "id": "4e40eac1-940b-42f4-8103-d2898a056d02",
   "metadata": {},
   "outputs": [
    {
     "data": {
      "text/plain": [
       "array([[1., 1., 1., 1., 1., 1.],\n",
       "       [1., 1., 1., 1., 1., 1.],\n",
       "       [1., 1., 1., 1., 1., 1.],\n",
       "       [1., 1., 1., 1., 1., 1.],\n",
       "       [1., 1., 1., 1., 1., 1.],\n",
       "       [1., 1., 1., 1., 1., 1.]])"
      ]
     },
     "execution_count": 18,
     "metadata": {},
     "output_type": "execute_result"
    }
   ],
   "source": [
    "arr=np.ones((6,6))\n",
    "arr"
   ]
  },
  {
   "cell_type": "code",
   "execution_count": 21,
   "id": "ab93937d-3007-4d22-a92d-92b362fc0262",
   "metadata": {},
   "outputs": [
    {
     "data": {
      "text/plain": [
       "array([1., 3., 5.])"
      ]
     },
     "execution_count": 21,
     "metadata": {},
     "output_type": "execute_result"
    }
   ],
   "source": [
    "arr=np.linspace(1,5,3)\n",
    "arr"
   ]
  },
  {
   "cell_type": "code",
   "execution_count": 22,
   "id": "22d8d463-876b-4e85-b6bb-850f483a37bd",
   "metadata": {},
   "outputs": [
    {
     "data": {
      "text/plain": [
       "array([0.        , 0.01010101, 0.02020202, 0.03030303, 0.04040404,\n",
       "       0.05050505, 0.06060606, 0.07070707, 0.08080808, 0.09090909,\n",
       "       0.1010101 , 0.11111111, 0.12121212, 0.13131313, 0.14141414,\n",
       "       0.15151515, 0.16161616, 0.17171717, 0.18181818, 0.19191919,\n",
       "       0.2020202 , 0.21212121, 0.22222222, 0.23232323, 0.24242424,\n",
       "       0.25252525, 0.26262626, 0.27272727, 0.28282828, 0.29292929,\n",
       "       0.3030303 , 0.31313131, 0.32323232, 0.33333333, 0.34343434,\n",
       "       0.35353535, 0.36363636, 0.37373737, 0.38383838, 0.39393939,\n",
       "       0.4040404 , 0.41414141, 0.42424242, 0.43434343, 0.44444444,\n",
       "       0.45454545, 0.46464646, 0.47474747, 0.48484848, 0.49494949,\n",
       "       0.50505051, 0.51515152, 0.52525253, 0.53535354, 0.54545455,\n",
       "       0.55555556, 0.56565657, 0.57575758, 0.58585859, 0.5959596 ,\n",
       "       0.60606061, 0.61616162, 0.62626263, 0.63636364, 0.64646465,\n",
       "       0.65656566, 0.66666667, 0.67676768, 0.68686869, 0.6969697 ,\n",
       "       0.70707071, 0.71717172, 0.72727273, 0.73737374, 0.74747475,\n",
       "       0.75757576, 0.76767677, 0.77777778, 0.78787879, 0.7979798 ,\n",
       "       0.80808081, 0.81818182, 0.82828283, 0.83838384, 0.84848485,\n",
       "       0.85858586, 0.86868687, 0.87878788, 0.88888889, 0.8989899 ,\n",
       "       0.90909091, 0.91919192, 0.92929293, 0.93939394, 0.94949495,\n",
       "       0.95959596, 0.96969697, 0.97979798, 0.98989899, 1.        ])"
      ]
     },
     "execution_count": 22,
     "metadata": {},
     "output_type": "execute_result"
    }
   ],
   "source": [
    "arr=np.linspace(0,1,100)\n",
    "arr"
   ]
  },
  {
   "cell_type": "markdown",
   "id": "f1401978-f785-44e2-94af-19c7b00a17f4",
   "metadata": {},
   "source": [
    "# Random Generation"
   ]
  },
  {
   "cell_type": "code",
   "execution_count": 23,
   "id": "208b61a9-3e0e-4595-8bba-eb21a574b1d2",
   "metadata": {},
   "outputs": [
    {
     "data": {
      "text/plain": [
       "array([0.8190029 , 0.38543234, 0.05975773, 0.91562534, 0.27820668])"
      ]
     },
     "execution_count": 23,
     "metadata": {},
     "output_type": "execute_result"
    }
   ],
   "source": [
    "np.random.rand(5) #normalization"
   ]
  },
  {
   "cell_type": "code",
   "execution_count": 24,
   "id": "854a51b7-4089-4db5-b69b-aa58294c56a9",
   "metadata": {},
   "outputs": [
    {
     "data": {
      "text/plain": [
       "array([-0.35021132, -0.05677082, -0.85854942,  0.86406468,  0.25737475,\n",
       "        0.89462861,  1.89799155,  0.69775643,  0.15414033,  0.68123016])"
      ]
     },
     "execution_count": 24,
     "metadata": {},
     "output_type": "execute_result"
    }
   ],
   "source": [
    "np.random.randn(10) #standerisation"
   ]
  },
  {
   "cell_type": "code",
   "execution_count": 26,
   "id": "0a7d9ba9-3c58-47aa-9a30-b5e16337b9ba",
   "metadata": {},
   "outputs": [
    {
     "data": {
      "text/plain": [
       "array([12,  7,  6, 18,  9, 18, 10,  6,  2,  8,  2, 16, 13,  9,  2, 14,  1,\n",
       "        4,  2,  4,  4,  1, 12, 15, 19, 17, 10, 13,  4, 18], dtype=int32)"
      ]
     },
     "execution_count": 26,
     "metadata": {},
     "output_type": "execute_result"
    }
   ],
   "source": [
    "np.random.randint(1,20,30)"
   ]
  },
  {
   "cell_type": "markdown",
   "id": "32b17341-ee96-4bf9-a98b-2640289fa5f6",
   "metadata": {},
   "source": [
    "# arrat attributes"
   ]
  },
  {
   "cell_type": "code",
   "execution_count": 29,
   "id": "4726faea-1e78-4b6a-acd9-035c3e1e45f3",
   "metadata": {},
   "outputs": [
    {
     "data": {
      "text/plain": [
       "array([[1, 2, 3],\n",
       "       [4, 5, 6],\n",
       "       [6, 7, 8]])"
      ]
     },
     "execution_count": 29,
     "metadata": {},
     "output_type": "execute_result"
    }
   ],
   "source": [
    "arr=np.array([[1,2,3],[4,5,6],[6,7,8]])\n",
    "arr"
   ]
  },
  {
   "cell_type": "code",
   "execution_count": 30,
   "id": "660edcf3-70f4-4668-934d-54714ae4792c",
   "metadata": {},
   "outputs": [
    {
     "data": {
      "text/plain": [
       "(3, 3)"
      ]
     },
     "execution_count": 30,
     "metadata": {},
     "output_type": "execute_result"
    }
   ],
   "source": [
    "arr.shape"
   ]
  },
  {
   "cell_type": "code",
   "execution_count": 31,
   "id": "7c9c6990-abd7-4550-b853-923686b18b41",
   "metadata": {},
   "outputs": [
    {
     "data": {
      "text/plain": [
       "9"
      ]
     },
     "execution_count": 31,
     "metadata": {},
     "output_type": "execute_result"
    }
   ],
   "source": [
    "arr.size"
   ]
  },
  {
   "cell_type": "code",
   "execution_count": 32,
   "id": "d49b6f9d-d374-4f8e-aca2-4035a362e6b6",
   "metadata": {},
   "outputs": [
    {
     "data": {
      "text/plain": [
       "dtype('int64')"
      ]
     },
     "execution_count": 32,
     "metadata": {},
     "output_type": "execute_result"
    }
   ],
   "source": [
    "arr.dtype"
   ]
  },
  {
   "cell_type": "markdown",
   "id": "f2a561a7-5407-4af7-a307-c68fe188d6fe",
   "metadata": {},
   "source": [
    "# array method"
   ]
  },
  {
   "cell_type": "code",
   "execution_count": 36,
   "id": "5debfe54-5f1f-4dbe-8ba8-e1a9542c3c5c",
   "metadata": {},
   "outputs": [
    {
     "name": "stdout",
     "output_type": "stream",
     "text": [
      "[[1 2 3]\n",
      " [4 5 6]\n",
      " [7 8 9]]\n"
     ]
    }
   ],
   "source": [
    "a=np.array([[1,2,3],\n",
    "            [4,5,6],\n",
    "            [7,8,9]])\n",
    "print(a)"
   ]
  },
  {
   "cell_type": "code",
   "execution_count": 38,
   "id": "b181748a-dd9b-4b2e-920a-8f4600d0832b",
   "metadata": {},
   "outputs": [
    {
     "name": "stdout",
     "output_type": "stream",
     "text": [
      "1\n"
     ]
    }
   ],
   "source": [
    "print(a.min())"
   ]
  },
  {
   "cell_type": "code",
   "execution_count": 39,
   "id": "b2353af2-4ba4-4f55-9c57-027f5c538803",
   "metadata": {},
   "outputs": [
    {
     "name": "stdout",
     "output_type": "stream",
     "text": [
      "9\n"
     ]
    }
   ],
   "source": [
    "print(a.max())"
   ]
  },
  {
   "cell_type": "code",
   "execution_count": 40,
   "id": "d7a5ec06-c025-4d1e-929f-12b96fcc2158",
   "metadata": {},
   "outputs": [
    {
     "name": "stdout",
     "output_type": "stream",
     "text": [
      "45\n"
     ]
    }
   ],
   "source": [
    "print(a.sum())"
   ]
  },
  {
   "cell_type": "code",
   "execution_count": 42,
   "id": "7614a27d-840d-4683-95f8-a59ea5e47d85",
   "metadata": {},
   "outputs": [
    {
     "data": {
      "text/plain": [
       "array([12, 15, 18])"
      ]
     },
     "execution_count": 42,
     "metadata": {},
     "output_type": "execute_result"
    }
   ],
   "source": [
    "np.sum(a,axis=0)"
   ]
  },
  {
   "cell_type": "code",
   "execution_count": 43,
   "id": "6b61369d-1076-4bee-aa2a-985a5679ef2f",
   "metadata": {},
   "outputs": [
    {
     "data": {
      "text/plain": [
       "array([ 6, 15, 24])"
      ]
     },
     "execution_count": 43,
     "metadata": {},
     "output_type": "execute_result"
    }
   ],
   "source": [
    "np.sum(a,axis=1)"
   ]
  },
  {
   "cell_type": "code",
   "execution_count": 44,
   "id": "7f4e325d-8f10-4ad3-896b-9795231e56f2",
   "metadata": {},
   "outputs": [
    {
     "name": "stdout",
     "output_type": "stream",
     "text": [
      "1\n"
     ]
    }
   ],
   "source": [
    "print(a.min())"
   ]
  },
  {
   "cell_type": "code",
   "execution_count": 45,
   "id": "a9d4f8e8-6f33-48e0-915e-e14d2cd8b0b4",
   "metadata": {},
   "outputs": [
    {
     "name": "stdout",
     "output_type": "stream",
     "text": [
      "2.581988897471611\n"
     ]
    }
   ],
   "source": [
    "print(a.std())"
   ]
  },
  {
   "cell_type": "code",
   "execution_count": 46,
   "id": "a60ae0f1-003c-42a6-816a-9d2e9432c138",
   "metadata": {},
   "outputs": [
    {
     "name": "stdout",
     "output_type": "stream",
     "text": [
      "8\n"
     ]
    }
   ],
   "source": [
    "print(a.argmax())"
   ]
  },
  {
   "cell_type": "code",
   "execution_count": 47,
   "id": "65979e75-faed-4bbe-a85e-d48f2cfe7792",
   "metadata": {},
   "outputs": [
    {
     "name": "stdout",
     "output_type": "stream",
     "text": [
      "0\n"
     ]
    }
   ],
   "source": [
    "print(arr.argmin())"
   ]
  },
  {
   "cell_type": "markdown",
   "id": "bb62e187-6cde-4387-bf2e-a17b4cc7b9af",
   "metadata": {},
   "source": [
    "# reshape"
   ]
  },
  {
   "cell_type": "code",
   "execution_count": 52,
   "id": "807f784f-af4c-4310-b0a6-bb1148b42aea",
   "metadata": {},
   "outputs": [
    {
     "name": "stdout",
     "output_type": "stream",
     "text": [
      "[ 1  2  3  4  5  6  7  8  9 10]\n"
     ]
    }
   ],
   "source": [
    "a=np.arange(1,11)\n",
    "print(a)"
   ]
  },
  {
   "cell_type": "code",
   "execution_count": 53,
   "id": "118caa42-82f6-4a45-a581-d46f229f687a",
   "metadata": {},
   "outputs": [
    {
     "name": "stdout",
     "output_type": "stream",
     "text": [
      "[[ 1  2  3  4  5]\n",
      " [ 6  7  8  9 10]]\n"
     ]
    }
   ],
   "source": [
    "a1=a.reshape(2,5)\n",
    "print(a1)"
   ]
  },
  {
   "cell_type": "code",
   "execution_count": 62,
   "id": "326630fd-84ba-420a-8532-447f5a812917",
   "metadata": {},
   "outputs": [
    {
     "name": "stdout",
     "output_type": "stream",
     "text": [
      "[3 7 7 8 7 3]\n",
      "[[3 7]\n",
      " [7 8]\n",
      " [7 3]]\n",
      "3\n",
      "0\n"
     ]
    }
   ],
   "source": [
    "a=np.random.randint(1,11,6)\n",
    "print(a)\n",
    "b=a.reshape(3,2)\n",
    "print(b)\n",
    "print(b.argmax())\n",
    "print(b.argmin())"
   ]
  },
  {
   "cell_type": "markdown",
   "id": "f5a9eea3-8a26-4f3d-a591-3fa988fdab2d",
   "metadata": {},
   "source": [
    "# indexing"
   ]
  },
  {
   "cell_type": "code",
   "execution_count": 64,
   "id": "d91f9a21-52c4-49c8-95fd-c86e38f536dd",
   "metadata": {},
   "outputs": [
    {
     "name": "stdout",
     "output_type": "stream",
     "text": [
      "[11 12 13 14 15 16 17 18 19 20]\n"
     ]
    }
   ],
   "source": [
    "import numpy as np\n",
    "a=np.arange(11,21)\n",
    "print(a)"
   ]
  },
  {
   "cell_type": "code",
   "execution_count": 65,
   "id": "440e2aab-5968-4b00-afe3-b7c18f9120f7",
   "metadata": {},
   "outputs": [
    {
     "name": "stdout",
     "output_type": "stream",
     "text": [
      "14\n"
     ]
    }
   ],
   "source": [
    "print(a[3])"
   ]
  },
  {
   "cell_type": "code",
   "execution_count": 67,
   "id": "086ecf9e-c0d2-4ea7-8635-f10fe97c1db9",
   "metadata": {},
   "outputs": [
    {
     "name": "stdout",
     "output_type": "stream",
     "text": [
      "[12 13 14 15]\n"
     ]
    }
   ],
   "source": [
    "print(a[1:5])"
   ]
  },
  {
   "cell_type": "code",
   "execution_count": 68,
   "id": "61ae9d49-8d0a-4508-9153-43f30ce2abb3",
   "metadata": {},
   "outputs": [
    {
     "name": "stdout",
     "output_type": "stream",
     "text": [
      "[11 12 13 14 15]\n"
     ]
    }
   ],
   "source": [
    "print(a[:5])"
   ]
  },
  {
   "cell_type": "code",
   "execution_count": 69,
   "id": "29bd2c56-86cc-4a12-a1e7-48b947a7d93e",
   "metadata": {},
   "outputs": [
    {
     "name": "stdout",
     "output_type": "stream",
     "text": [
      "[11 12 13 14 15 16 17 18 19 20]\n"
     ]
    }
   ],
   "source": [
    "print(a[:])"
   ]
  },
  {
   "cell_type": "code",
   "execution_count": 70,
   "id": "a3018daa-6be2-4ab3-bd85-fbdf43f4c24f",
   "metadata": {},
   "outputs": [
    {
     "name": "stdout",
     "output_type": "stream",
     "text": [
      "[11 12 13 14 15 16 17 18 19 20]\n"
     ]
    }
   ],
   "source": [
    "print(a[0:])"
   ]
  },
  {
   "cell_type": "code",
   "execution_count": 71,
   "id": "dd5f865d-443f-450c-92aa-72bafde1d285",
   "metadata": {},
   "outputs": [
    {
     "name": "stdout",
     "output_type": "stream",
     "text": [
      "[12 14 16 18 20]\n"
     ]
    }
   ],
   "source": [
    "print(a[1::2])"
   ]
  },
  {
   "cell_type": "code",
   "execution_count": 74,
   "id": "96519eb7-f51e-4b7f-af18-2d5e8051767d",
   "metadata": {},
   "outputs": [
    {
     "data": {
      "text/plain": [
       "array([[ 1,  2,  3,  4,  5],\n",
       "       [ 6,  7,  8,  9, 10],\n",
       "       [11, 12, 13, 14, 15],\n",
       "       [16, 17, 18, 19, 20],\n",
       "       [21, 22, 23, 24, 25],\n",
       "       [26, 27, 28, 29, 30]])"
      ]
     },
     "execution_count": 74,
     "metadata": {},
     "output_type": "execute_result"
    }
   ],
   "source": [
    "arr=np.arange(1,31).reshape(6,5)\n",
    "arr"
   ]
  },
  {
   "cell_type": "code",
   "execution_count": 76,
   "id": "8ba3f0e2-4a8f-408f-ab2c-a2b17e314a7c",
   "metadata": {},
   "outputs": [
    {
     "name": "stdout",
     "output_type": "stream",
     "text": [
      "1\n"
     ]
    }
   ],
   "source": [
    "print(arr[0,0])\n",
    "print(arr[0:2,1:3])"
   ]
  },
  {
   "cell_type": "code",
   "execution_count": 77,
   "id": "7c5ec417-a998-4b14-9139-996116d5b853",
   "metadata": {},
   "outputs": [
    {
     "name": "stdout",
     "output_type": "stream",
     "text": [
      "5\n"
     ]
    }
   ],
   "source": [
    "print(arr[0,4])"
   ]
  },
  {
   "cell_type": "code",
   "execution_count": 78,
   "id": "6e7712e3-20bd-4845-8a64-d073b2f8412e",
   "metadata": {},
   "outputs": [
    {
     "name": "stdout",
     "output_type": "stream",
     "text": [
      "30\n"
     ]
    }
   ],
   "source": [
    "print(arr[5,4])"
   ]
  },
  {
   "cell_type": "code",
   "execution_count": 83,
   "id": "a8bbdc4f-3dce-4dcd-8e41-4999c128e89f",
   "metadata": {},
   "outputs": [
    {
     "name": "stdout",
     "output_type": "stream",
     "text": [
      "[[19 20]\n",
      " [24 25]\n",
      " [29 30]]\n"
     ]
    }
   ],
   "source": [
    "print(arr[3:6,3:5])"
   ]
  },
  {
   "cell_type": "code",
   "execution_count": 85,
   "id": "54b5f17c-15a6-40fd-b519-67d2de910c82",
   "metadata": {},
   "outputs": [
    {
     "name": "stdout",
     "output_type": "stream",
     "text": [
      "[29 30]\n"
     ]
    }
   ],
   "source": [
    "print(arr[5,3:6])"
   ]
  },
  {
   "cell_type": "code",
   "execution_count": 86,
   "id": "0229c142-d1af-4453-a0f3-b55891be20e2",
   "metadata": {},
   "outputs": [
    {
     "name": "stdout",
     "output_type": "stream",
     "text": [
      "[ 3  8 13 18 23 28]\n"
     ]
    }
   ],
   "source": [
    "print(arr[:,2])"
   ]
  },
  {
   "cell_type": "code",
   "execution_count": 87,
   "id": "b6f2904c-4c9a-4d84-9e49-770b2f8c8df1",
   "metadata": {},
   "outputs": [
    {
     "name": "stdout",
     "output_type": "stream",
     "text": [
      "[11 12 13 14 15 16 17 18 19 20]\n"
     ]
    }
   ],
   "source": [
    "arr1=np.arange(11,21)\n",
    "print(arr1)"
   ]
  },
  {
   "cell_type": "markdown",
   "id": "f148ed1b-75d2-41c0-9a5d-6fa677f3febd",
   "metadata": {},
   "source": [
    "# array operation"
   ]
  },
  {
   "cell_type": "code",
   "execution_count": 88,
   "id": "fa43b0af-795a-4ac4-b241-5b478cf242b6",
   "metadata": {},
   "outputs": [
    {
     "name": "stdout",
     "output_type": "stream",
     "text": [
      "[ 7  9 11 13]\n"
     ]
    }
   ],
   "source": [
    "a1=np.array([1,2,3,4])\n",
    "a2=np.array([6,7,8,9])\n",
    "\n",
    "print(a1+a2)"
   ]
  },
  {
   "cell_type": "code",
   "execution_count": 89,
   "id": "96a1add7-ffbe-4a3a-a444-97952c5721f1",
   "metadata": {},
   "outputs": [
    {
     "name": "stdout",
     "output_type": "stream",
     "text": [
      "[-5 -5 -5 -5]\n"
     ]
    }
   ],
   "source": [
    "print(a1-a2)"
   ]
  },
  {
   "cell_type": "code",
   "execution_count": 90,
   "id": "4d5f4f87-ef43-41fb-9c10-7efd3203d329",
   "metadata": {},
   "outputs": [
    {
     "name": "stdout",
     "output_type": "stream",
     "text": [
      "[ 6 14 24 36]\n"
     ]
    }
   ],
   "source": [
    "print(a1*a2)"
   ]
  },
  {
   "cell_type": "code",
   "execution_count": 92,
   "id": "d06b2d0b-13e9-4238-82d5-136fe0f09b09",
   "metadata": {},
   "outputs": [
    {
     "name": "stdout",
     "output_type": "stream",
     "text": [
      "[0.16666667 0.28571429 0.375      0.44444444]\n"
     ]
    }
   ],
   "source": [
    "print(a1/a2)"
   ]
  },
  {
   "cell_type": "code",
   "execution_count": 93,
   "id": "9de3f2f5-fc3a-4bde-bd45-4f250280ebdc",
   "metadata": {},
   "outputs": [
    {
     "name": "stdout",
     "output_type": "stream",
     "text": [
      "[0 0 0 0]\n"
     ]
    }
   ],
   "source": [
    "print(a1//a2)"
   ]
  },
  {
   "cell_type": "code",
   "execution_count": 94,
   "id": "83e300a0-4e60-47f7-947e-f60e62ed4dfe",
   "metadata": {},
   "outputs": [
    {
     "name": "stdout",
     "output_type": "stream",
     "text": [
      "[     1    128   6561 262144]\n"
     ]
    }
   ],
   "source": [
    "print(a1 ** a2)"
   ]
  },
  {
   "cell_type": "code",
   "execution_count": 95,
   "id": "0fa0e4ab-646b-41cd-82ff-a079f1d6f7eb",
   "metadata": {},
   "outputs": [],
   "source": [
    "#broadcasting"
   ]
  },
  {
   "cell_type": "code",
   "execution_count": 98,
   "id": "070ca990-260e-4a02-afb1-0ee71c50c76b",
   "metadata": {},
   "outputs": [],
   "source": [
    "t=[10,20,30,40]\n",
    "p=np.array(t)"
   ]
  },
  {
   "cell_type": "code",
   "execution_count": 99,
   "id": "d7d91faf-5ee8-4129-9c55-9ba5b5d6298d",
   "metadata": {},
   "outputs": [
    {
     "name": "stdout",
     "output_type": "stream",
     "text": [
      "[20 30 40 50]\n"
     ]
    }
   ],
   "source": [
    "print(p+10)"
   ]
  },
  {
   "cell_type": "code",
   "execution_count": 101,
   "id": "9a96f351-e8be-4bdd-af21-fba6beb7bd19",
   "metadata": {},
   "outputs": [
    {
     "name": "stdout",
     "output_type": "stream",
     "text": [
      "[[ 1  2  3  4  5]\n",
      " [ 6  7  8  9 10]\n",
      " [11 12 13 14 15]\n",
      " [16 17 18 19 20]\n",
      " [21 22 23 24 25]]\n"
     ]
    }
   ],
   "source": [
    "arr2=np.arange(1,26).reshape(5,5)\n",
    "print(arr2)"
   ]
  },
  {
   "cell_type": "code",
   "execution_count": 102,
   "id": "62bc27d3-816e-4089-8721-f46a333c0265",
   "metadata": {},
   "outputs": [
    {
     "data": {
      "text/plain": [
       "array([[11, 12, 13, 14, 15],\n",
       "       [16, 17, 18, 19, 20],\n",
       "       [21, 22, 23, 24, 25],\n",
       "       [26, 27, 28, 29, 30],\n",
       "       [31, 32, 33, 34, 35]])"
      ]
     },
     "execution_count": 102,
     "metadata": {},
     "output_type": "execute_result"
    }
   ],
   "source": [
    "arr2+10"
   ]
  },
  {
   "cell_type": "code",
   "execution_count": 103,
   "id": "0c17260e-10d2-445f-82c4-900d2d1805de",
   "metadata": {},
   "outputs": [],
   "source": [
    "# depp and shallow copy"
   ]
  },
  {
   "cell_type": "code",
   "execution_count": 105,
   "id": "d5be9cef-9e0b-4c3f-8d91-c17cd928b0dc",
   "metadata": {},
   "outputs": [
    {
     "name": "stdout",
     "output_type": "stream",
     "text": [
      "[ 1  2  3  4  5  6  7  8  9 10 11 12 13 14 15 16 17 18 19 20]\n"
     ]
    }
   ],
   "source": [
    "a=np.arange(1,21)\n",
    "print(a)"
   ]
  },
  {
   "cell_type": "code",
   "execution_count": 106,
   "id": "eac3bd47-805b-4e39-a524-7fb7976c75b1",
   "metadata": {},
   "outputs": [
    {
     "data": {
      "text/plain": [
       "array([1, 'm', list([10, 3, 4])], dtype=object)"
      ]
     },
     "execution_count": 106,
     "metadata": {},
     "output_type": "execute_result"
    }
   ],
   "source": [
    "a = np.array([1, 'm', [2, 3, 4]], dtype=object)\n",
    ">>> b = a.copy()\n",
    ">>> b[2][0] = 10\n",
    ">>> a"
   ]
  },
  {
   "cell_type": "code",
   "execution_count": 118,
   "id": "041d47e0-131f-4385-84ef-7ddff42f7d49",
   "metadata": {},
   "outputs": [
    {
     "name": "stdout",
     "output_type": "stream",
     "text": [
      "[[ 1  2  3  4  5  6  7  8  9 10]\n",
      " [11 12 13 14 15 16 17 18 19 20]]\n",
      "[[ 7  2  3  4  5  6  7  8  9 10]\n",
      " [11 12 13 14 15 16 17 18 19 20]]\n",
      "[[ 7  2  3  4  5  6  7  8  9 10]\n",
      " [11 12 13 14 15 16 17 18 19 20]]\n"
     ]
    }
   ],
   "source": [
    "a=np.arange(1,21).reshape(2,10)\n",
    "print(a)\n",
    "b=a.view()\n",
    "b[0,0]=7\n",
    "print(b)\n",
    "print(a)"
   ]
  },
  {
   "cell_type": "code",
   "execution_count": 119,
   "id": "6c337f19-92df-4da2-9d39-4f36ed24cf4d",
   "metadata": {},
   "outputs": [],
   "source": [
    "# matrix operation"
   ]
  },
  {
   "cell_type": "code",
   "execution_count": 120,
   "id": "8bdb20ff-4453-4812-8878-52f02f488669",
   "metadata": {},
   "outputs": [
    {
     "name": "stdout",
     "output_type": "stream",
     "text": [
      "[[ 5 12]\n",
      " [21 32]]\n"
     ]
    }
   ],
   "source": [
    "a=np.array([[1,2],[3,4]])\n",
    "b=np.array([[5,6],[7,8]])\n",
    "print(a*b)"
   ]
  },
  {
   "cell_type": "code",
   "execution_count": 121,
   "id": "5b230dd5-c04e-4dc5-879a-dbdc3b04610e",
   "metadata": {},
   "outputs": [
    {
     "name": "stdout",
     "output_type": "stream",
     "text": [
      "[[19 22]\n",
      " [43 50]]\n"
     ]
    }
   ],
   "source": [
    "print(a@b)"
   ]
  },
  {
   "cell_type": "code",
   "execution_count": 122,
   "id": "0b54c066-bc13-4f5c-bfe6-160dcd213861",
   "metadata": {},
   "outputs": [
    {
     "name": "stdout",
     "output_type": "stream",
     "text": [
      "[[1 3]\n",
      " [2 4]]\n"
     ]
    }
   ],
   "source": [
    "print(a.T)"
   ]
  },
  {
   "cell_type": "code",
   "execution_count": 126,
   "id": "4242bab1-056c-4eab-8ad2-a2a2d6830231",
   "metadata": {},
   "outputs": [
    {
     "name": "stdout",
     "output_type": "stream",
     "text": [
      "[[1 2 3 4]\n",
      " [5 6 7 8]]\n"
     ]
    }
   ],
   "source": [
    "a=np.array([1,2,3,4])\n",
    "b=np.array([5,6,7,8])\n",
    "print(np.vstack((a,b)))"
   ]
  },
  {
   "cell_type": "code",
   "execution_count": 128,
   "id": "5b9d70b4-395f-48a8-9bb3-e511177dc8c0",
   "metadata": {},
   "outputs": [
    {
     "name": "stdout",
     "output_type": "stream",
     "text": [
      "[1 2 3 4 5 6 7 8]\n"
     ]
    }
   ],
   "source": [
    "print(np.hstack((a,b)))"
   ]
  },
  {
   "cell_type": "code",
   "execution_count": 129,
   "id": "2867ecc9-7ab9-46c2-8a81-c4f6bbdf742c",
   "metadata": {},
   "outputs": [
    {
     "name": "stdout",
     "output_type": "stream",
     "text": [
      "[[1 5]\n",
      " [2 6]\n",
      " [3 7]\n",
      " [4 8]]\n"
     ]
    }
   ],
   "source": [
    "print(np.column_stack((a,b)))"
   ]
  },
  {
   "cell_type": "code",
   "execution_count": 130,
   "id": "7b2ddbfc-1be7-45e6-a44e-43ed684b067e",
   "metadata": {},
   "outputs": [
    {
     "name": "stdout",
     "output_type": "stream",
     "text": [
      "[[ 0  1  2  3]\n",
      " [ 4  5  6  7]\n",
      " [ 8  9 10 11]\n",
      " [12 13 14 15]]\n"
     ]
    }
   ],
   "source": [
    "c=np.arange(16).reshape(4,4)\n",
    "print(c)"
   ]
  },
  {
   "cell_type": "code",
   "execution_count": 132,
   "id": "d357343d-1854-4f92-8100-f0ad43fb54f1",
   "metadata": {},
   "outputs": [
    {
     "name": "stdout",
     "output_type": "stream",
     "text": [
      "[array([[ 0],\n",
      "       [ 4],\n",
      "       [ 8],\n",
      "       [12]]), array([[ 1],\n",
      "       [ 5],\n",
      "       [ 9],\n",
      "       [13]]), array([[ 2],\n",
      "       [ 6],\n",
      "       [10],\n",
      "       [14]]), array([[ 3],\n",
      "       [ 7],\n",
      "       [11],\n",
      "       [15]])]\n"
     ]
    }
   ],
   "source": [
    "print(np.hsplit(c,4))"
   ]
  },
  {
   "cell_type": "code",
   "execution_count": 134,
   "id": "5a7fa384-e857-429f-88e2-f5f2667c1eff",
   "metadata": {},
   "outputs": [
    {
     "name": "stdout",
     "output_type": "stream",
     "text": [
      "[array([[0, 1, 2, 3]]), array([[4, 5, 6, 7]]), array([[ 8,  9, 10, 11]]), array([[12, 13, 14, 15]])]\n"
     ]
    }
   ],
   "source": [
    "print(np.vsplit(c,4))"
   ]
  },
  {
   "cell_type": "code",
   "execution_count": 21,
   "id": "9cf99e0c-8208-414a-8aa1-5341f8109373",
   "metadata": {},
   "outputs": [
    {
     "name": "stdout",
     "output_type": "stream",
     "text": [
      "[[ 1  2  3  4  5]\n",
      " [ 6  7  8  9 10]\n",
      " [11 12 13 14 15]\n",
      " [16 17 18 19 20]\n",
      " [21 22 23 24 25]]\n",
      "[array([[1, 2, 3, 4, 5]]), array([[ 6,  7,  8,  9, 10]]), array([[11, 12, 13, 14, 15]]), array([[16, 17, 18, 19, 20]]), array([[21, 22, 23, 24, 25]])]\n",
      "[[21 22 23 24 25]]\n",
      "25\n",
      "int64\n",
      "[[ 1  2  3  4  5]\n",
      " [ 6  7  8  9 10]\n",
      " [11 12 13 14 15]\n",
      " [16 17 18 19 20]\n",
      " [21 22 23 24 25]]\n",
      "[[ 2  4  6  8 10]\n",
      " [12 14 16 18 20]\n",
      " [22 24 26 28 30]\n",
      " [32 34 36 38 40]\n",
      " [42 44 46 48 50]]\n",
      "[[ 1  6 11 16 21]\n",
      " [ 2  7 12 17 22]\n",
      " [ 3  8 13 18 23]\n",
      " [ 4  9 14 19 24]\n",
      " [ 5 10 15 20 25]]\n",
      "24\n",
      "0\n",
      "[[ 1  2  3  4  5]\n",
      " [ 6  7  8  9 10]\n",
      " [11 12 13 14 15]\n",
      " [16 17 18 19 20]\n",
      " [21 22 23 24 25]\n",
      " [ 1  2  3  4  5]\n",
      " [ 6  7  8  9 10]\n",
      " [11 12 13 14 15]\n",
      " [16 17 18 19 20]\n",
      " [21 22 23 24 25]]\n"
     ]
    }
   ],
   "source": [
    "import numpy as np\n",
    "a=np.arange(1,26).reshape(5,5)\n",
    "print(a)\n",
    "print(np.split(a,5))\n",
    "print(a[4:,:])\n",
    "print(a.size)\n",
    "print(a.dtype)\n",
    "b=np.arange(1,26).reshape(5,5)\n",
    "print(b)\n",
    "print(a+b)\n",
    "print(a.T)\n",
    "print(a.argmax())\n",
    "print(a.argmin())\n",
    "print(np.vstack((a,b)))"
   ]
  },
  {
   "cell_type": "code",
   "execution_count": 23,
   "id": "8b88784b-226f-4308-8356-185914262793",
   "metadata": {},
   "outputs": [
    {
     "name": "stdout",
     "output_type": "stream",
     "text": [
      "[[43 15 76 56 22 79 29 62 41]\n",
      " [84 67  6 30 24 61 26 58 60]\n",
      " [56 33  7 72 15 77 21 32 55]\n",
      " [88  8 57 43 86 13 81 10 30]\n",
      " [28  4  6 29 65 83 51  3 20]\n",
      " [72 36 82 83 52 72  6 35 50]\n",
      " [73 74 44 44 25 40 67 28 37]\n",
      " [76 88 28 74 83 79 28 41 38]\n",
      " [61 34 21 82 87 70 57 79 51]]\n"
     ]
    }
   ],
   "source": [
    "s=np.random.randint(1,90,81).reshape(9,9)\n",
    "print(s)\n"
   ]
  },
  {
   "cell_type": "code",
   "execution_count": 26,
   "id": "f80cbee0-fe8c-4d43-bca6-f60bc7a07fa7",
   "metadata": {},
   "outputs": [],
   "source": [
    "data=np.array([\n",
    "    [18,85,78],\n",
    "    [19,92,88],\n",
    "    [17,76,95],\n",
    "    [18,65,70],\n",
    "    [20,90,85]\n",
    "\n",
    "])"
   ]
  },
  {
   "cell_type": "code",
   "execution_count": 27,
   "id": "49269985-d682-41a1-9c6a-a741d060df5d",
   "metadata": {},
   "outputs": [
    {
     "data": {
      "text/plain": [
       "(5, 3)"
      ]
     },
     "execution_count": 27,
     "metadata": {},
     "output_type": "execute_result"
    }
   ],
   "source": [
    "data.shape"
   ]
  },
  {
   "cell_type": "code",
   "execution_count": 28,
   "id": "e92d7ecb-e769-42f0-9658-a8cdc1af0e12",
   "metadata": {},
   "outputs": [
    {
     "data": {
      "text/plain": [
       "np.float64(18.4)"
      ]
     },
     "execution_count": 28,
     "metadata": {},
     "output_type": "execute_result"
    }
   ],
   "source": [
    "np.mean(data[:,0])"
   ]
  },
  {
   "cell_type": "code",
   "execution_count": 29,
   "id": "0fdd3f76-059e-43eb-952c-1a258c3cdb16",
   "metadata": {},
   "outputs": [
    {
     "name": "stdout",
     "output_type": "stream",
     "text": [
      "[85 92 76 65 90]\n"
     ]
    }
   ],
   "source": [
    "print(data[:,1])"
   ]
  },
  {
   "cell_type": "code",
   "execution_count": 30,
   "id": "9423b2a7-c70d-4062-b005-ccaad3d8de53",
   "metadata": {},
   "outputs": [
    {
     "data": {
      "text/plain": [
       "np.int64(95)"
      ]
     },
     "execution_count": 30,
     "metadata": {},
     "output_type": "execute_result"
    }
   ],
   "source": [
    "np.max(data[:,2])"
   ]
  },
  {
   "cell_type": "code",
   "execution_count": 32,
   "id": "77218846-0c4a-4de4-97cb-c4c36ca23fac",
   "metadata": {},
   "outputs": [
    {
     "data": {
      "text/plain": [
       "array([[19, 92, 88]])"
      ]
     },
     "execution_count": 32,
     "metadata": {},
     "output_type": "execute_result"
    }
   ],
   "source": [
    "data[data[:,1]>90]"
   ]
  },
  {
   "cell_type": "code",
   "execution_count": 34,
   "id": "00bb473d-a5f6-49a5-8c26-8431115a762d",
   "metadata": {},
   "outputs": [
    {
     "data": {
      "text/plain": [
       "array([[18, 85, 78],\n",
       "       [19, 92, 88],\n",
       "       [17, 76, 95],\n",
       "       [18, 65, 70],\n",
       "       [20, 90, 85]])"
      ]
     },
     "execution_count": 34,
     "metadata": {},
     "output_type": "execute_result"
    }
   ],
   "source": [
    "data[:,1]+5\n",
    "data"
   ]
  },
  {
   "cell_type": "code",
   "execution_count": 35,
   "id": "1adf7e91-8d8d-4076-9785-a7906b856c59",
   "metadata": {},
   "outputs": [
    {
     "data": {
      "text/plain": [
       "array([18, 85, 78, 19, 92, 88, 17, 76, 95, 18, 65, 70, 20, 90, 85])"
      ]
     },
     "execution_count": 35,
     "metadata": {},
     "output_type": "execute_result"
    }
   ],
   "source": [
    "data.ravel()"
   ]
  },
  {
   "cell_type": "code",
   "execution_count": 1,
   "id": "0c3f8fed-76b1-4087-ba70-c1d5d9d6e4e2",
   "metadata": {},
   "outputs": [],
   "source": [
    "import numpy as np"
   ]
  },
  {
   "cell_type": "code",
   "execution_count": 2,
   "id": "7629e3b2-834e-4b61-ac22-b0abd7884820",
   "metadata": {},
   "outputs": [
    {
     "name": "stdout",
     "output_type": "stream",
     "text": [
      "[1 2 3 4 5]\n"
     ]
    }
   ],
   "source": [
    "a=np.array([1,2,3,4,5])\n",
    "print(a)"
   ]
  },
  {
   "cell_type": "code",
   "execution_count": 3,
   "id": "70d277a4-bffd-419b-abd7-fab1c94e752b",
   "metadata": {},
   "outputs": [
    {
     "name": "stdout",
     "output_type": "stream",
     "text": [
      "[10 11 12 13 14 15 16 17 18 19 20]\n"
     ]
    }
   ],
   "source": [
    "arr=np.arange(10,21)\n",
    "print(arr)"
   ]
  },
  {
   "cell_type": "code",
   "execution_count": 4,
   "id": "829798f5-4c75-47a3-b86d-6c2bcd545118",
   "metadata": {},
   "outputs": [
    {
     "name": "stdout",
     "output_type": "stream",
     "text": [
      "[[0. 0. 0.]\n",
      " [0. 0. 0.]\n",
      " [0. 0. 0.]]\n"
     ]
    }
   ],
   "source": [
    "Zeros_arr = np.zeros((3,3))\n",
    "print(Zeros_arr)"
   ]
  },
  {
   "cell_type": "code",
   "execution_count": 5,
   "id": "53286561-13a6-4b73-a45b-54015e012e86",
   "metadata": {},
   "outputs": [
    {
     "name": "stdout",
     "output_type": "stream",
     "text": [
      "[[7 7 7 7 7]\n",
      " [7 7 7 7 7]\n",
      " [7 7 7 7 7]\n",
      " [7 7 7 7 7]\n",
      " [7 7 7 7 7]]\n"
     ]
    }
   ],
   "source": [
    "full_arr=np.full((5,5),7)\n",
    "print(full_arr)"
   ]
  },
  {
   "cell_type": "code",
   "execution_count": 7,
   "id": "31a3d29c-b9e7-45a2-a868-db999bd16d0d",
   "metadata": {},
   "outputs": [
    {
     "name": "stdout",
     "output_type": "stream",
     "text": [
      "[5 7 9]\n",
      "[-3 -3 -3]\n",
      "[ 4 10 18]\n"
     ]
    }
   ],
   "source": [
    "a=np.array([1,2,3])\n",
    "b=np.array([4,5,6])\n",
    "print(a+b)\n",
    "print(a-b)\n",
    "print(a*b)"
   ]
  },
  {
   "cell_type": "code",
   "execution_count": 8,
   "id": "f09ea6b3-e0c6-45f1-89ff-06e3f06b4873",
   "metadata": {},
   "outputs": [
    {
     "name": "stdout",
     "output_type": "stream",
     "text": [
      "32\n"
     ]
    }
   ],
   "source": [
    "print(np.dot(a,b))"
   ]
  },
  {
   "cell_type": "code",
   "execution_count": 10,
   "id": "40b08f87-d456-4b65-8935-7ca08a7d4711",
   "metadata": {},
   "outputs": [
    {
     "data": {
      "text/plain": [
       "array([[1, 2, 3],\n",
       "       [4, 5, 6],\n",
       "       [7, 8, 9]])"
      ]
     },
     "execution_count": 10,
     "metadata": {},
     "output_type": "execute_result"
    }
   ],
   "source": [
    "arr=np.arange(1,10).reshape(3,3)\n",
    "arr\n"
   ]
  },
  {
   "cell_type": "code",
   "execution_count": 11,
   "id": "3918b6e4-b37c-424a-ad03-7d9696885fe4",
   "metadata": {},
   "outputs": [
    {
     "name": "stdout",
     "output_type": "stream",
     "text": [
      "[4 5 6]\n"
     ]
    }
   ],
   "source": [
    "print(arr[1, :])"
   ]
  },
  {
   "cell_type": "code",
   "execution_count": 12,
   "id": "da89b923-3513-4228-9eee-3fb47ad903f3",
   "metadata": {},
   "outputs": [
    {
     "name": "stdout",
     "output_type": "stream",
     "text": [
      "[[1 2 3]\n",
      " [4 5 6]]\n"
     ]
    }
   ],
   "source": [
    "a=np.array([1,2,3,4,5,6])\n",
    "print(a.reshape(2,3))"
   ]
  },
  {
   "cell_type": "code",
   "execution_count": 13,
   "id": "715100c7-22e6-4bc3-9b82-68898cfa82b0",
   "metadata": {},
   "outputs": [
    {
     "name": "stdout",
     "output_type": "stream",
     "text": [
      "[1 2 3 4 5 6]\n"
     ]
    }
   ],
   "source": [
    "print(a.ravel())"
   ]
  },
  {
   "cell_type": "code",
   "execution_count": 16,
   "id": "8a407348-44b0-45ec-9acc-cef5b5f20d88",
   "metadata": {},
   "outputs": [
    {
     "data": {
      "text/plain": [
       "array([4, 5, 6])"
      ]
     },
     "execution_count": 16,
     "metadata": {},
     "output_type": "execute_result"
    }
   ],
   "source": [
    "a=np.array([1,2,3,4,5,6])\n",
    "a[a>3]"
   ]
  },
  {
   "cell_type": "code",
   "execution_count": 18,
   "id": "9f9c1615-2f41-4f76-aa1d-bf43479ba537",
   "metadata": {},
   "outputs": [
    {
     "data": {
      "text/plain": [
       "array([ 1, -1,  3, -1,  5, -1])"
      ]
     },
     "execution_count": 18,
     "metadata": {},
     "output_type": "execute_result"
    }
   ],
   "source": [
    "a[a%2==0]=-1\n",
    "a"
   ]
  },
  {
   "cell_type": "code",
   "execution_count": 20,
   "id": "4a9f8350-d9eb-4a8e-8888-2bcce645c38d",
   "metadata": {},
   "outputs": [
    {
     "data": {
      "text/plain": [
       "array([2, 7, 7, 3, 6], dtype=int32)"
      ]
     },
     "execution_count": 20,
     "metadata": {},
     "output_type": "execute_result"
    }
   ],
   "source": [
    "arr=np.random.randint(1,10,5)\n",
    "arr"
   ]
  },
  {
   "cell_type": "code",
   "execution_count": 22,
   "id": "53ebce3b-c119-43b1-81a2-318b591022d8",
   "metadata": {},
   "outputs": [
    {
     "name": "stdout",
     "output_type": "stream",
     "text": [
      "[[1 2]\n",
      " [3 4]\n",
      " [5 6]]\n"
     ]
    }
   ],
   "source": [
    "a=np.array([[1,2] , [3,4]])\n",
    "b=np.array([[5,6]])\n",
    "vstack=np.vstack((a,b))\n",
    "print(vstack)"
   ]
  },
  {
   "cell_type": "code",
   "execution_count": 24,
   "id": "7ad0c42d-feb1-4b87-a7a1-a012f63574c2",
   "metadata": {},
   "outputs": [
    {
     "name": "stdout",
     "output_type": "stream",
     "text": [
      "[[1 2 5]\n",
      " [3 4 6]]\n"
     ]
    }
   ],
   "source": [
    "hstack=np.hstack((a,b.T))\n",
    "print(hstack)"
   ]
  },
  {
   "cell_type": "code",
   "execution_count": 25,
   "id": "68a373f3-4bf0-4ebc-a0e5-1ba7f9482133",
   "metadata": {},
   "outputs": [
    {
     "name": "stdout",
     "output_type": "stream",
     "text": [
      "[array([0, 1, 2]), array([3, 4, 5]), array([6, 7, 8])]\n"
     ]
    }
   ],
   "source": [
    "arr=np.arange(9)\n",
    "print(np.split(arr,3))"
   ]
  }
 ],
 "metadata": {
  "kernelspec": {
   "display_name": "Python 3 (ipykernel)",
   "language": "python",
   "name": "python3"
  },
  "language_info": {
   "codemirror_mode": {
    "name": "ipython",
    "version": 3
   },
   "file_extension": ".py",
   "mimetype": "text/x-python",
   "name": "python",
   "nbconvert_exporter": "python",
   "pygments_lexer": "ipython3",
   "version": "3.13.3"
  }
 },
 "nbformat": 4,
 "nbformat_minor": 5
}
